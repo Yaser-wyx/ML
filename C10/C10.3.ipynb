{
 "cells": [
  {
   "cell_type": "markdown",
   "metadata": {
    "collapsed": true,
    "pycharm": {
     "name": "#%% md\n"
    }
   },
   "source": [
    "## 实现混淆矩阵、精准率与召回率"
   ]
  },
  {
   "cell_type": "code",
   "execution_count": 31,
   "outputs": [],
   "source": [
    "import numpy as np\n",
    "from sklearn.datasets import load_digits"
   ],
   "metadata": {
    "collapsed": false,
    "pycharm": {
     "name": "#%%\n",
     "is_executing": false
    }
   }
  },
  {
   "cell_type": "code",
   "execution_count": 32,
   "outputs": [],
   "source": [
    "digits = load_digits()\n",
    "X = digits.data\n",
    "y = digits.target.copy()\n",
    "\n",
    "y[digits.target == 9] = 1\n",
    "y[digits.target != 9] = 0"
   ],
   "metadata": {
    "collapsed": false,
    "pycharm": {
     "name": "#%%\n",
     "is_executing": false
    }
   }
  },
  {
   "cell_type": "code",
   "execution_count": 33,
   "outputs": [],
   "source": [
    "from sklearn.model_selection import train_test_split\n",
    "from sklearn.linear_model import LogisticRegression"
   ],
   "metadata": {
    "collapsed": false,
    "pycharm": {
     "name": "#%%\n",
     "is_executing": false
    }
   }
  },
  {
   "cell_type": "code",
   "execution_count": 34,
   "outputs": [
    {
     "name": "stderr",
     "text": [
      "E:\\Anaconda3\\lib\\site-packages\\sklearn\\linear_model\\logistic.py:432: FutureWarning: Default solver will be changed to 'lbfgs' in 0.22. Specify a solver to silence this warning.\n  FutureWarning)\n"
     ],
     "output_type": "stream"
    },
    {
     "data": {
      "text/plain": "LogisticRegression(C=1.0, class_weight=None, dual=False, fit_intercept=True,\n                   intercept_scaling=1, l1_ratio=None, max_iter=100,\n                   multi_class='warn', n_jobs=None, penalty='l2',\n                   random_state=None, solver='warn', tol=0.0001, verbose=0,\n                   warm_start=False)"
     },
     "metadata": {},
     "output_type": "execute_result",
     "execution_count": 34
    }
   ],
   "source": [
    "X_train,X_test,y_train,y_test = train_test_split(X,y,random_state=666)\n",
    "log_reg = LogisticRegression()\n",
    "log_reg.fit(X_train,y_train)"
   ],
   "metadata": {
    "collapsed": false,
    "pycharm": {
     "name": "#%%\n",
     "is_executing": false
    }
   }
  },
  {
   "cell_type": "code",
   "execution_count": 35,
   "outputs": [
    {
     "name": "stdout",
     "text": [
      "0.9755555555555555\n"
     ],
     "output_type": "stream"
    }
   ],
   "source": [
    "print(log_reg.score(X_test,y_test))"
   ],
   "metadata": {
    "collapsed": false,
    "pycharm": {
     "name": "#%%\n",
     "is_executing": false
    }
   }
  },
  {
   "cell_type": "code",
   "execution_count": 36,
   "outputs": [],
   "source": [
    "def TN(true_res,predict_res):\n",
    "    assert len(true_res) == len(predict_res)\n",
    "    return np.sum((true_res==0) & (predict_res==0))\n",
    "def FN(true_res,predict_res):\n",
    "    assert len(true_res) == len(predict_res)\n",
    "    return np.sum((true_res==1) & (predict_res==0))\n",
    "def FP(true_res,predict_res):\n",
    "    assert len(true_res) == len(predict_res)\n",
    "    return np.sum((true_res==0) & (predict_res==1))\n",
    "def TP(true_res,predict_res):\n",
    "    assert len(true_res) == len(predict_res)\n",
    "    return np.sum((true_res==1) & (predict_res==1))"
   ],
   "metadata": {
    "collapsed": false,
    "pycharm": {
     "name": "#%%\n",
     "is_executing": false
    }
   }
  },
  {
   "cell_type": "code",
   "execution_count": 37,
   "outputs": [],
   "source": [
    "def confusion_matrix(true_res,predict_res):\n",
    "    return np.array([\n",
    "        [TN(true_res,predict_res),FP(true_res,predict_res)],\n",
    "        [FN(true_res,predict_res),TP(true_res,predict_res)]\n",
    "    ])\n",
    "def precise_rate(true_res,predict_res):\n",
    "    tp = TP(true_res,predict_res)\n",
    "    fp = FP(true_res,predict_res)\n",
    "    try:\n",
    "        return tp/(tp+fp)\n",
    "    except ZeroDivisionError:\n",
    "        return 0.0\n",
    "def recall_rate(true_res,predict_res):\n",
    "    tp = TP(true_res,predict_res)\n",
    "    fn = FN(true_res,predict_res)\n",
    "    try:\n",
    "        return tp/(tp+fn)\n",
    "    except ZeroDivisionError:\n",
    "        return 0.0"
   ],
   "metadata": {
    "collapsed": false,
    "pycharm": {
     "name": "#%%\n",
     "is_executing": false
    }
   }
  },
  {
   "cell_type": "code",
   "execution_count": 38,
   "outputs": [
    {
     "name": "stdout",
     "text": [
      "[[403   2]\n [  9  36]]\n0.9473684210526315\n0.8\n"
     ],
     "output_type": "stream"
    }
   ],
   "source": [
    "y_predict = log_reg.predict(X_test)\n",
    "print(confusion_matrix(y_test,y_predict))\n",
    "print(precise_rate(y_test,y_predict))\n",
    "print(recall_rate(y_test,y_predict))"
   ],
   "metadata": {
    "collapsed": false,
    "pycharm": {
     "name": "#%%\n",
     "is_executing": false
    }
   }
  },
  {
   "cell_type": "code",
   "execution_count": 39,
   "outputs": [],
   "source": [
    "from sklearn.metrics import confusion_matrix\n",
    "from sklearn.metrics import recall_score\n",
    "from sklearn.metrics import precision_score"
   ],
   "metadata": {
    "collapsed": false,
    "pycharm": {
     "name": "#%%\n",
     "is_executing": false
    }
   }
  },
  {
   "cell_type": "code",
   "execution_count": 42,
   "outputs": [
    {
     "name": "stdout",
     "text": [
      "[[403   2]\n [  9  36]]\n0.9473684210526315\n0.8\n"
     ],
     "output_type": "stream"
    }
   ],
   "source": [
    "print(confusion_matrix(y_test,y_predict))\n",
    "print(precision_score(y_test,y_predict))\n",
    "print(recall_score(y_test,y_predict))"
   ],
   "metadata": {
    "collapsed": false,
    "pycharm": {
     "name": "#%%\n",
     "is_executing": false
    }
   }
  }
 ],
 "metadata": {
  "kernelspec": {
   "display_name": "Python 3",
   "language": "python",
   "name": "python3"
  },
  "language_info": {
   "codemirror_mode": {
    "name": "ipython",
    "version": 2
   },
   "file_extension": ".py",
   "mimetype": "text/x-python",
   "name": "python",
   "nbconvert_exporter": "python",
   "pygments_lexer": "ipython2",
   "version": "2.7.6"
  },
  "pycharm": {
   "stem_cell": {
    "cell_type": "raw",
    "source": [],
    "metadata": {
     "collapsed": false
    }
   }
  }
 },
 "nbformat": 4,
 "nbformat_minor": 0
}