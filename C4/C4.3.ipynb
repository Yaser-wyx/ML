{
 "cells": [
  {
   "cell_type": "markdown",
   "metadata": {
    "collapsed": true,
    "pycharm": {
     "name": "#%% md\n"
    }
   },
   "source": [
    "# 4.3 测试自己的算法"
   ]
  },
  {
   "cell_type": "code",
   "execution_count": 1,
   "outputs": [],
   "source": [
    "from code.train_test_split import train_test_split\n",
    "from code.KNN_Classify import KNN_Classify\n",
    "from sklearn.datasets import load_iris\n",
    "iris = load_iris()\n",
    "x_data = iris.data\n",
    "y_data = iris.target\n",
    "x_train, x_test, y_train, y_test = train_test_split(x_data,y_data)"
   ],
   "metadata": {
    "collapsed": false,
    "pycharm": {
     "name": "#%%\n",
     "is_executing": false
    }
   }
  },
  {
   "cell_type": "code",
   "execution_count": 2,
   "outputs": [
    {
     "name": "stdout",
     "text": [
      "(120, 4)\n(120,)\n(30, 4)\n(30,)\n"
     ],
     "output_type": "stream"
    }
   ],
   "source": [
    "print(x_train.shape)\n",
    "print(y_train.shape)\n",
    "print(x_test.shape)\n",
    "print(y_test.shape)"
   ],
   "metadata": {
    "collapsed": false,
    "pycharm": {
     "name": "#%%\n",
     "is_executing": false
    }
   }
  },
  {
   "cell_type": "code",
   "execution_count": 3,
   "outputs": [
    {
     "name": "stdout",
     "text": [
      "init\n[2 2 2 1 0 2 2 2 1 1 0 2 0 1 0 2 1 1 1 1 1 2 1 0 0 0 2 0 1 0]\n[2 2 2 1 0 2 2 2 1 1 0 2 0 1 0 2 1 1 1 1 1 2 1 0 0 0 2 0 1 0]\n"
     ],
     "output_type": "stream"
    }
   ],
   "source": [
    "my_knn = KNN_Classify(k=3)\n",
    "my_knn.fit(x_train,y_train)\n",
    "y_predict = my_knn.predict(x_test)\n",
    "print(y_predict)\n",
    "print(y_test)"
   ],
   "metadata": {
    "collapsed": false,
    "pycharm": {
     "name": "#%%\n",
     "is_executing": false
    }
   }
  },
  {
   "cell_type": "code",
   "execution_count": 4,
   "outputs": [
    {
     "name": "stdout",
     "text": [
      "准确率为： 1.0\n"
     ],
     "output_type": "stream"
    }
   ],
   "source": [
    "precision_rate =sum(y_predict==y_test)/len(y_test)\n",
    "print(\"准确率为：\",precision_rate)"
   ],
   "metadata": {
    "collapsed": false,
    "pycharm": {
     "name": "#%%\n",
     "is_executing": false
    }
   }
  }
 ],
 "metadata": {
  "kernelspec": {
   "display_name": "Python 3",
   "language": "python",
   "name": "python3"
  },
  "language_info": {
   "codemirror_mode": {
    "name": "ipython",
    "version": 2
   },
   "file_extension": ".py",
   "mimetype": "text/x-python",
   "name": "python",
   "nbconvert_exporter": "python",
   "pygments_lexer": "ipython2",
   "version": "2.7.6"
  },
  "pycharm": {
   "stem_cell": {
    "cell_type": "raw",
    "source": [],
    "metadata": {
     "collapsed": false
    }
   }
  }
 },
 "nbformat": 4,
 "nbformat_minor": 0
}