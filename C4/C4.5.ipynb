{
 "cells": [
  {
   "cell_type": "markdown",
   "metadata": {
    "collapsed": true,
    "pycharm": {
     "name": "#%% md\n"
    }
   },
   "source": [
    "# 4.5 超参数"
   ]
  },
  {
   "cell_type": "code",
   "execution_count": 1,
   "outputs": [],
   "source": [
    "import numpy as np\n",
    "from sklearn.neighbors import KNeighborsClassifier\n",
    "from sklearn.datasets import  load_digits\n",
    "from sklearn.model_selection import train_test_split"
   ],
   "metadata": {
    "collapsed": false,
    "pycharm": {
     "name": "#%%\n",
     "is_executing": false
    }
   }
  },
  {
   "cell_type": "code",
   "execution_count": 2,
   "outputs": [],
   "source": [
    "digits = load_digits()\n",
    "X = digits.data\n",
    "y = digits.target"
   ],
   "metadata": {
    "collapsed": false,
    "pycharm": {
     "name": "#%%\n",
     "is_executing": false
    }
   }
  },
  {
   "cell_type": "code",
   "execution_count": 10,
   "outputs": [
    {
     "name": "stdout",
     "text": [
      "0.9844444444444445\n"
     ],
     "output_type": "stream"
    }
   ],
   "source": [
    "X_train,X_test,y_train,y_test = train_test_split(X,y,random_state=666)\n",
    "knn = KNeighborsClassifier(n_neighbors=3)\n",
    "knn.fit(X_train,y_train)\n",
    "print(knn.score(X_test,y_test))"
   ],
   "metadata": {
    "collapsed": false,
    "pycharm": {
     "name": "#%%\n",
     "is_executing": false
    }
   }
  },
  {
   "cell_type": "markdown",
   "source": [
    "## 超参数定义： **`超参数是在开始学习过程之前设置值的参数，而不是通过训练得到的参数数据。`**\n",
    "\n",
    "## 寻找最好的K值"
   ],
   "metadata": {
    "collapsed": false,
    "pycharm": {
     "name": "#%% md\n"
    }
   }
  },
  {
   "cell_type": "code",
   "execution_count": 7,
   "outputs": [
    {
     "name": "stdout",
     "text": [
      "0.9866666666666667 5\n"
     ],
     "output_type": "stream"
    }
   ],
   "source": [
    "best_score = 0.0\n",
    "best_k = -1\n",
    "for k in range(1,11):\n",
    "    knn = KNeighborsClassifier(n_neighbors=k,weights=\"distance\")\n",
    "    knn.fit(X_train,y_train)\n",
    "    now_score = knn.score(X_test,y_test)\n",
    "    if now_score>best_score:  \n",
    "        best_score = now_score\n",
    "        best_k = k\n",
    "print(best_score,best_k)"
   ],
   "metadata": {
    "collapsed": false,
    "pycharm": {
     "name": "#%%\n",
     "is_executing": false
    }
   }
  },
  {
   "cell_type": "markdown",
   "source": [
    "## 是否需要距离"
   ],
   "metadata": {
    "collapsed": false,
    "pycharm": {
     "name": "#%% md\n"
    }
   }
  },
  {
   "cell_type": "code",
   "execution_count": 11,
   "outputs": [
    {
     "name": "stdout",
     "text": [
      "0.9866666666666667 5 uniform\n"
     ],
     "output_type": "stream"
    }
   ],
   "source": [
    "best_score = 0.0\n",
    "best_k = -1\n",
    "best_method=\"\"\n",
    "for method in [\"uniform\",\"distance\"]:\n",
    "    for k in range(1,11):\n",
    "        knn = KNeighborsClassifier(n_neighbors=k,weights=method)\n",
    "        knn.fit(X_train,y_train)\n",
    "        now_score = knn.score(X_test,y_test)\n",
    "        if now_score>best_score:  \n",
    "            best_score = now_score\n",
    "            best_k = k\n",
    "            best_method = method\n",
    "print(best_score,best_k,best_method)"
   ],
   "metadata": {
    "collapsed": false,
    "pycharm": {
     "name": "#%%\n",
     "is_executing": false
    }
   }
  },
  {
   "cell_type": "markdown",
   "source": [
    "## 搜索明可夫斯基距离"
   ],
   "metadata": {
    "collapsed": false,
    "pycharm": {
     "name": "#%% md\n"
    }
   }
  },
  {
   "cell_type": "code",
   "execution_count": 13,
   "outputs": [
    {
     "name": "stdout",
     "text": [
      "0.9866666666666667 5 uniform 2\nWall time: 21.2 s\n"
     ],
     "output_type": "stream"
    }
   ],
   "source": [
    "%%time\n",
    "best_score = 0.0\n",
    "best_k = -1\n",
    "best_p = -1\n",
    "for p in range(1,6):\n",
    "    for k in range(1,11):\n",
    "        knn = KNeighborsClassifier(n_neighbors=k,weights=\"distance\",p=p)\n",
    "        knn.fit(X_train,y_train)\n",
    "        now_score = knn.score(X_test,y_test)\n",
    "        if now_score>best_score:  \n",
    "            best_score = now_score\n",
    "            best_k = k\n",
    "            best_p=p\n",
    "print(best_score,best_k,best_method,best_p)"
   ],
   "metadata": {
    "collapsed": false,
    "pycharm": {
     "name": "#%%\n",
     "is_executing": false
    }
   }
  }
 ],
 "metadata": {
  "kernelspec": {
   "display_name": "Python 3",
   "language": "python",
   "name": "python3"
  },
  "language_info": {
   "codemirror_mode": {
    "name": "ipython",
    "version": 2
   },
   "file_extension": ".py",
   "mimetype": "text/x-python",
   "name": "python",
   "nbconvert_exporter": "python",
   "pygments_lexer": "ipython2",
   "version": "2.7.6"
  },
  "pycharm": {
   "stem_cell": {
    "cell_type": "raw",
    "source": [],
    "metadata": {
     "collapsed": false
    }
   }
  }
 },
 "nbformat": 4,
 "nbformat_minor": 0
}