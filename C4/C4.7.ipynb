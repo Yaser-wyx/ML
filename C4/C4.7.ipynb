{
 "cells": [
  {
   "cell_type": "markdown",
   "source": [
    "# 数据归一化\n",
    "`在机器学习领域中，不同评价指标（即特征向量中的不同特征就是所述的不同评价指标）往往具有不同的量纲和量纲单位，这样的情况会影响到数据分析的结果，为了消除指标之间的量纲影响，需要进行数据标准化处理，以解决数据指标之间的可比性。原始数据经过数据标准化处理后，各指标处于同一数量级，适合进行综合对比评价。`\n",
    "## 数据归一化方法：\n",
    "1. 最值归一化：把所有的数据映射到0~1之间\n",
    "   - 适用于分布有明显边界的情况。\n",
    "   - $$ X_{scale}= \\frac{X-X_{min}}{X_{max}-X_{min}} $$\n",
    "2. 均值方差归一化（**推荐**）：把所有的数据归一到均值为0，方差为1的分布中。  \n",
    "   - 适用于数据分布没有明显的边界\n",
    "   - $$  X_{scale}= \\frac{X-X_{mean}}{S}  $$\n",
    "\n",
    "---"
   ],
   "metadata": {
    "collapsed": false,
    "pycharm": {
     "name": "#%% md\n"
    }
   }
  },
  {
   "cell_type": "code",
   "execution_count": 3,
   "outputs": [],
   "source": [
    "import numpy as np\n",
    "import matplotlib.pyplot as plt"
   ],
   "metadata": {
    "collapsed": false,
    "pycharm": {
     "name": "#%%\n",
     "is_executing": false
    }
   }
  },
  {
   "cell_type": "markdown",
   "source": [
    "## 最值归一化："
   ],
   "metadata": {
    "collapsed": false,
    "pycharm": {
     "name": "#%% md\n"
    }
   }
  },
  {
   "cell_type": "code",
   "execution_count": 4,
   "outputs": [
    {
     "data": {
      "text/plain": "array([52, 55, 20, 63, 81, 66, 94, 97, 37, 56, 56, 23, 92, 24, 89, 37, 73,\n       28, 26, 49, 28,  1,  2, 47, 17, 70, 20, 99, 39, 31, 40, 29, 95, 25,\n       16, 87, 30, 91, 77, 59,  3, 61,  8, 88, 86, 58, 79, 83, 38, 35, 60,\n        2, 14,  2, 34, 77, 95, 87, 75, 80, 80, 11, 22, 43, 31, 27, 93, 54,\n       61, 18, 40, 93, 29, 22,  8, 59, 95,  3, 91, 71, 84, 67, 88, 34, 35,\n       50, 16, 72, 44, 86,  2, 93, 17, 78, 64,  7, 22, 79, 65,  9])"
     },
     "metadata": {},
     "output_type": "execute_result",
     "execution_count": 4
    }
   ],
   "source": [
    "x = np.random.randint(0,100,size=100)\n",
    "x"
   ],
   "metadata": {
    "collapsed": false,
    "pycharm": {
     "name": "#%%\n",
     "is_executing": false
    }
   }
  },
  {
   "cell_type": "code",
   "execution_count": 5,
   "outputs": [
    {
     "data": {
      "text/plain": "array([0.52040816, 0.55102041, 0.19387755, 0.63265306, 0.81632653,\n       0.66326531, 0.94897959, 0.97959184, 0.36734694, 0.56122449,\n       0.56122449, 0.2244898 , 0.92857143, 0.23469388, 0.89795918,\n       0.36734694, 0.73469388, 0.2755102 , 0.25510204, 0.48979592,\n       0.2755102 , 0.        , 0.01020408, 0.46938776, 0.16326531,\n       0.70408163, 0.19387755, 1.        , 0.3877551 , 0.30612245,\n       0.39795918, 0.28571429, 0.95918367, 0.24489796, 0.15306122,\n       0.87755102, 0.29591837, 0.91836735, 0.7755102 , 0.59183673,\n       0.02040816, 0.6122449 , 0.07142857, 0.8877551 , 0.86734694,\n       0.58163265, 0.79591837, 0.83673469, 0.37755102, 0.34693878,\n       0.60204082, 0.01020408, 0.13265306, 0.01020408, 0.33673469,\n       0.7755102 , 0.95918367, 0.87755102, 0.75510204, 0.80612245,\n       0.80612245, 0.10204082, 0.21428571, 0.42857143, 0.30612245,\n       0.26530612, 0.93877551, 0.54081633, 0.6122449 , 0.17346939,\n       0.39795918, 0.93877551, 0.28571429, 0.21428571, 0.07142857,\n       0.59183673, 0.95918367, 0.02040816, 0.91836735, 0.71428571,\n       0.84693878, 0.67346939, 0.8877551 , 0.33673469, 0.34693878,\n       0.5       , 0.15306122, 0.7244898 , 0.43877551, 0.86734694,\n       0.01020408, 0.93877551, 0.16326531, 0.78571429, 0.64285714,\n       0.06122449, 0.21428571, 0.79591837, 0.65306122, 0.08163265])"
     },
     "metadata": {},
     "output_type": "execute_result",
     "execution_count": 5
    }
   ],
   "source": [
    "(x - np.min(x)) / (np.max(x)-np.min(x))"
   ],
   "metadata": {
    "collapsed": false,
    "pycharm": {
     "name": "#%%\n",
     "is_executing": false
    }
   }
  },
  {
   "cell_type": "code",
   "execution_count": 7,
   "outputs": [
    {
     "data": {
      "text/plain": "array([[56, 31],\n       [91, 62],\n       [ 7, 11],\n       [26, 41],\n       [73, 80],\n       [77, 55],\n       [16, 37],\n       [23, 67],\n       [64, 82],\n       [50, 39]])"
     },
     "metadata": {},
     "output_type": "execute_result",
     "execution_count": 7
    }
   ],
   "source": [
    "X = np.random.randint(0,100,(50,2))\n",
    "X[:10,:]"
   ],
   "metadata": {
    "collapsed": false,
    "pycharm": {
     "name": "#%%\n",
     "is_executing": false
    }
   }
  },
  {
   "cell_type": "code",
   "execution_count": 9,
   "outputs": [
    {
     "data": {
      "text/plain": "array([[56., 31.],\n       [91., 62.],\n       [ 7., 11.],\n       [26., 41.],\n       [73., 80.],\n       [77., 55.],\n       [16., 37.],\n       [23., 67.],\n       [64., 82.],\n       [50., 39.]])"
     },
     "metadata": {},
     "output_type": "execute_result",
     "execution_count": 9
    }
   ],
   "source": [
    "X = np.array(X, dtype=float)\n",
    "X[:10,:]"
   ],
   "metadata": {
    "collapsed": false,
    "pycharm": {
     "name": "#%%\n",
     "is_executing": false
    }
   }
  },
  {
   "cell_type": "code",
   "execution_count": 10,
   "outputs": [],
   "source": [
    "for i in range(2):\n",
    "    X[:,i] = (X[:,i]-np.min(X[:,i]))/(np.max(X[:,i])-np.min(X[:,i]))"
   ],
   "metadata": {
    "collapsed": false,
    "pycharm": {
     "name": "#%%\n",
     "is_executing": false
    }
   }
  },
  {
   "cell_type": "code",
   "execution_count": 12,
   "outputs": [
    {
     "data": {
      "text/plain": "<Figure size 432x288 with 1 Axes>",
      "image/png": "[encoded data removed]"
     },
     "metadata": {
      "needs_background": "light"
     },
     "output_type": "display_data"
    }
   ],
   "source": [
    "X[:10,:]\n",
    "\n",
    "plt.scatter(X[:,0],X[:,1])\n",
    "plt.show()"
   ],
   "metadata": {
    "collapsed": false,
    "pycharm": {
     "name": "#%%\n",
     "is_executing": false
    }
   }
  },
  {
   "cell_type": "markdown",
   "source": [
    "## 均值方差归一化"
   ],
   "metadata": {
    "collapsed": false,
    "pycharm": {
     "name": "#%% md\n"
    }
   }
  },
  {
   "cell_type": "code",
   "execution_count": 14,
   "outputs": [
    {
     "data": {
      "text/plain": "array([[96., 36.],\n       [ 7.,  0.],\n       [24., 36.],\n       [32., 71.],\n       [76., 50.],\n       [50., 70.],\n       [66., 86.],\n       [43., 90.],\n       [53., 62.],\n       [48., 81.],\n       [36.,  8.],\n       [20., 32.],\n       [48., 93.],\n       [29., 12.],\n       [ 4., 60.],\n       [93., 71.],\n       [81., 18.],\n       [16., 57.],\n       [22., 94.],\n       [ 4., 77.],\n       [73., 15.],\n       [35.,  0.],\n       [ 3., 28.],\n       [66., 64.],\n       [99., 15.],\n       [55., 52.],\n       [41., 40.],\n       [42.,  0.],\n       [82., 61.],\n       [73., 42.],\n       [48., 27.],\n       [ 2., 38.],\n       [16., 78.],\n       [11., 35.],\n       [78., 90.],\n       [30., 30.],\n       [46., 83.],\n       [73., 64.],\n       [47., 89.],\n       [10., 17.],\n       [53., 40.],\n       [94., 34.],\n       [56., 55.],\n       [71., 39.],\n       [ 2., 30.],\n       [26., 22.],\n       [63., 43.],\n       [73., 97.],\n       [32., 53.],\n       [46., 77.]])"
     },
     "metadata": {},
     "output_type": "execute_result",
     "execution_count": 14
    }
   ],
   "source": [
    "X2 = np.random.randint(0,100,(50,2))\n",
    "X2 = np.array(X2,float)\n",
    "X2"
   ],
   "metadata": {
    "collapsed": false,
    "pycharm": {
     "name": "#%%\n",
     "is_executing": false
    }
   }
  },
  {
   "cell_type": "code",
   "execution_count": 15,
   "outputs": [
    {
     "data": {
      "text/plain": "array([[ 1.82673442, -0.47999302],\n       [-1.41706772, -1.78511   ],\n       [-0.79746506, -0.47999302],\n       [-0.50588734,  0.78887071],\n       [ 1.09779012,  0.02755247],\n       [ 0.15016253,  0.75261746],\n       [ 0.73331797,  1.33266945],\n       [-0.10496798,  1.47768245],\n       [ 0.25950417,  0.46259146],\n       [ 0.0772681 ,  1.1514032 ],\n       [-0.36009848, -1.495084  ],\n       [-0.94325392, -0.62500602],\n       [ 0.0772681 ,  1.58644219],\n       [-0.61522899, -1.35007101],\n       [-1.52640936,  0.39008496],\n       [ 1.71739277,  0.78887071],\n       [ 1.28002619, -1.13255151],\n       [-1.08904278,  0.28132522],\n       [-0.87035949,  1.62269544],\n       [-1.52640936,  1.0063902 ],\n       [ 0.98844847, -1.24131126],\n       [-0.3965457 , -1.78511   ],\n       [-1.56285658, -0.77001902],\n       [ 0.73331797,  0.53509796],\n       [ 1.93607606, -1.24131126],\n       [ 0.3323986 ,  0.10005897],\n       [-0.17786241, -0.33498002],\n       [-0.14141519, -1.78511   ],\n       [ 1.31647341,  0.42633821],\n       [ 0.98844847, -0.26247353],\n       [ 0.0772681 , -0.80627227],\n       [-1.59930379, -0.40748652],\n       [-1.08904278,  1.04264345],\n       [-1.27127886, -0.51624627],\n       [ 1.17068455,  1.47768245],\n       [-0.57878177, -0.69751252],\n       [ 0.00437367,  1.2239097 ],\n       [ 0.98844847,  0.53509796],\n       [ 0.04082088,  1.4414292 ],\n       [-1.30772607, -1.16880476],\n       [ 0.25950417, -0.33498002],\n       [ 1.75383999, -0.55249952],\n       [ 0.36884582,  0.20881872],\n       [ 0.91555404, -0.37123327],\n       [-1.59930379, -0.69751252],\n       [-0.72457063, -0.98753851],\n       [ 0.62397632, -0.22622028],\n       [ 0.98844847,  1.73145519],\n       [-0.50588734,  0.13631222],\n       [ 0.00437367,  1.0063902 ]])"
     },
     "metadata": {},
     "output_type": "execute_result",
     "execution_count": 15
    }
   ],
   "source": [
    "for i in range(2):\n",
    "    X2[:,i] = (X2[:,i]-np.mean(X2[:,i]))/np.std(X2[:,i])\n",
    "X2"
   ],
   "metadata": {
    "collapsed": false,
    "pycharm": {
     "name": "#%%\n",
     "is_executing": false
    }
   }
  },
  {
   "cell_type": "code",
   "execution_count": 22,
   "outputs": [
    {
     "data": {
      "text/plain": "<Figure size 432x288 with 1 Axes>",
      "image/png": "[encoded data removed]"
     },
     "metadata": {
      "needs_background": "light"
     },
     "output_type": "display_data"
    }
   ],
   "source": [
    "plt.scatter(X2[:,0],X2[:,1])\n",
    "plt.show()"
   ],
   "metadata": {
    "collapsed": false,
    "pycharm": {
     "name": "#%%\n",
     "is_executing": false
    }
   }
  },
  {
   "cell_type": "code",
   "execution_count": 20,
   "outputs": [
    {
     "name": "stdout",
     "text": [
      "-1.0028436414621922e-16 -7.549516567451065e-17\n1.0 1.0\n"
     ],
     "output_type": "stream"
    }
   ],
   "source": [
    "print(np.mean(X2[:,0]),np.mean(X2[:,1]))\n",
    "print(np.std(X2[:,0]),np.std(X2[:,1]))"
   ],
   "metadata": {
    "collapsed": false,
    "pycharm": {
     "name": "#%%\n",
     "is_executing": false
    }
   }
  }
 ],
 "metadata": {
  "kernelspec": {
   "display_name": "Python 3",
   "language": "python",
   "name": "python3"
  },
  "language_info": {
   "codemirror_mode": {
    "name": "ipython",
    "version": 2
   },
   "file_extension": ".py",
   "mimetype": "text/x-python",
   "name": "python",
   "nbconvert_exporter": "python",
   "pygments_lexer": "ipython2",
   "version": "2.7.6"
  },
  "pycharm": {
   "stem_cell": {
    "cell_type": "raw",
    "source": [],
    "metadata": {
     "collapsed": false
    }
   }
  }
 },
 "nbformat": 4,
 "nbformat_minor": 0
}