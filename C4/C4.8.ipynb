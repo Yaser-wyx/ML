{
 "cells": [
  {
   "cell_type": "markdown",
   "metadata": {
    "collapsed": true,
    "pycharm": {
     "name": "#%% md\n"
    }
   },
   "source": [
    "# 数据集归一化\n",
    "\n",
    "对测试数据集的归一化，需要使用原训练数据集归一化的值来进行归一。\n",
    "\n",
    "## Scikit-learn中的Scaler"
   ]
  },
  {
   "cell_type": "code",
   "execution_count": 14,
   "outputs": [],
   "source": [
    "import numpy as np\n",
    "from sklearn.datasets import load_iris\n",
    "\n",
    "iris = load_iris()\n",
    "X = iris.data\n",
    "Y = iris.target"
   ],
   "metadata": {
    "collapsed": false,
    "pycharm": {
     "name": "#%%\n",
     "is_executing": false
    }
   }
  },
  {
   "cell_type": "code",
   "execution_count": 15,
   "outputs": [
    {
     "data": {
      "text/plain": "array([[5.1, 3.5, 1.4, 0.2],\n       [4.9, 3. , 1.4, 0.2],\n       [4.7, 3.2, 1.3, 0.2],\n       [4.6, 3.1, 1.5, 0.2],\n       [5. , 3.6, 1.4, 0.2],\n       [5.4, 3.9, 1.7, 0.4],\n       [4.6, 3.4, 1.4, 0.3],\n       [5. , 3.4, 1.5, 0.2],\n       [4.4, 2.9, 1.4, 0.2],\n       [4.9, 3.1, 1.5, 0.1]])"
     },
     "metadata": {},
     "output_type": "execute_result",
     "execution_count": 15
    }
   ],
   "source": [
    "X[:10,:]"
   ],
   "metadata": {
    "collapsed": false,
    "pycharm": {
     "name": "#%%\n",
     "is_executing": false
    }
   }
  },
  {
   "cell_type": "code",
   "execution_count": 16,
   "outputs": [],
   "source": [
    "from sklearn.model_selection import train_test_split\n",
    "\n",
    "X_train, X_test, y_train, y_test = train_test_split(X,Y,test_size=0.2,random_state=666)"
   ],
   "metadata": {
    "collapsed": false,
    "pycharm": {
     "name": "#%%\n",
     "is_executing": false
    }
   }
  },
  {
   "cell_type": "markdown",
   "source": [
    "## Scikit-learn中的StandardScaler"
   ],
   "metadata": {
    "collapsed": false,
    "pycharm": {
     "name": "#%% md\n"
    }
   }
  },
  {
   "cell_type": "code",
   "execution_count": 17,
   "outputs": [],
   "source": [
    "from sklearn.preprocessing import StandardScaler"
   ],
   "metadata": {
    "collapsed": false,
    "pycharm": {
     "name": "#%%\n",
     "is_executing": false
    }
   }
  },
  {
   "cell_type": "code",
   "execution_count": 18,
   "outputs": [
    {
     "data": {
      "text/plain": "StandardScaler(copy=True, with_mean=True, with_std=True)"
     },
     "metadata": {},
     "output_type": "execute_result",
     "execution_count": 18
    }
   ],
   "source": [
    "standardScaler = StandardScaler()\n",
    "standardScaler.fit(X_train)"
   ],
   "metadata": {
    "collapsed": false,
    "pycharm": {
     "name": "#%%\n",
     "is_executing": false
    }
   }
  },
  {
   "cell_type": "code",
   "execution_count": 19,
   "outputs": [
    {
     "data": {
      "text/plain": "array([5.83416667, 3.08666667, 3.70833333, 1.17      ])"
     },
     "metadata": {},
     "output_type": "execute_result",
     "execution_count": 19
    }
   ],
   "source": [
    "standardScaler.mean_"
   ],
   "metadata": {
    "collapsed": false,
    "pycharm": {
     "name": "#%%\n",
     "is_executing": false
    }
   }
  },
  {
   "cell_type": "code",
   "execution_count": 20,
   "outputs": [
    {
     "data": {
      "text/plain": "array([0.81019502, 0.44327067, 1.76401924, 0.75317107])"
     },
     "metadata": {},
     "output_type": "execute_result",
     "execution_count": 20
    }
   ],
   "source": [
    "standardScaler.scale_ "
   ],
   "metadata": {
    "collapsed": false,
    "pycharm": {
     "name": "#%%\n",
     "is_executing": false
    }
   }
  },
  {
   "cell_type": "code",
   "execution_count": 21,
   "outputs": [],
   "source": [
    "X_train = standardScaler.transform(X_train)"
   ],
   "metadata": {
    "collapsed": false,
    "pycharm": {
     "name": "#%%\n",
     "is_executing": false
    }
   }
  },
  {
   "cell_type": "code",
   "execution_count": 23,
   "outputs": [
    {
     "data": {
      "text/plain": "array([[-0.28902506, -0.19551636,  0.44878573,  0.43814747],\n       [-0.04217092, -0.64670795,  0.78891808,  1.63309511],\n       [-1.0295875 , -1.77468693, -0.23147896, -0.22571233],\n       [-0.04217092, -0.87230374,  0.78891808,  0.96923531],\n       [-1.52329579,  0.03007944, -1.25187599, -1.28788802],\n       [-0.41245214, -1.32349533,  0.16534211,  0.17260355],\n       [-0.16559799, -0.64670795,  0.44878573,  0.17260355],\n       [ 0.82181859, -0.19551636,  0.8456068 ,  1.10200727],\n       [ 0.57496445, -1.77468693,  0.39209701,  0.17260355],\n       [-0.41245214, -1.09789954,  0.39209701,  0.03983159],\n       [ 1.06867274,  0.03007944,  0.39209701,  0.30537551],\n       [-1.64672287, -1.77468693, -1.36525344, -1.15511606],\n       [-1.27644165,  0.03007944, -1.19518726, -1.28788802],\n       [-0.53587921,  0.70686683, -1.25187599, -1.0223441 ],\n       [ 1.68580811,  1.15805842,  1.35580532,  1.76586707],\n       [-0.04217092, -0.87230374,  0.22203084, -0.22571233],\n       [-1.52329579,  1.15805842, -1.53531961, -1.28788802],\n       [ 1.68580811,  0.25567524,  1.29911659,  0.83646335],\n       [ 1.31552689,  0.03007944,  0.78891808,  1.50032315],\n       [ 0.69839152, -0.87230374,  0.90229552,  0.96923531],\n       [ 0.57496445,  0.48127103,  0.56216318,  0.57091943],\n       [-1.0295875 ,  0.70686683, -1.25187599, -1.28788802],\n       [ 2.30294347, -1.09789954,  1.80931511,  1.50032315],\n       [-1.0295875 ,  0.48127103, -1.30856471, -1.28788802],\n       [ 0.45153738, -0.42111215,  0.33540828,  0.17260355],\n       [ 0.08125616, -0.19551636,  0.27871956,  0.43814747],\n       [-1.0295875 ,  0.25567524, -1.42194216, -1.28788802],\n       [-0.41245214, -1.77468693,  0.16534211,  0.17260355],\n       [ 0.57496445,  0.48127103,  1.29911659,  1.76586707],\n       [ 2.30294347, -0.19551636,  1.35580532,  1.50032315]])"
     },
     "metadata": {},
     "output_type": "execute_result",
     "execution_count": 23
    }
   ],
   "source": [
    "X_test_standard = standardScaler.transform(X_test)\n",
    "X_test_standard"
   ],
   "metadata": {
    "collapsed": false,
    "pycharm": {
     "name": "#%%\n",
     "is_executing": false
    }
   }
  },
  {
   "cell_type": "code",
   "execution_count": 24,
   "outputs": [],
   "source": [
    "from sklearn.neighbors import KNeighborsClassifier"
   ],
   "metadata": {
    "collapsed": false,
    "pycharm": {
     "name": "#%%\n",
     "is_executing": false
    }
   }
  },
  {
   "cell_type": "code",
   "execution_count": 25,
   "outputs": [
    {
     "data": {
      "text/plain": "KNeighborsClassifier(algorithm='auto', leaf_size=30, metric='minkowski',\n                     metric_params=None, n_jobs=None, n_neighbors=5, p=2,\n                     weights='uniform')"
     },
     "metadata": {},
     "output_type": "execute_result",
     "execution_count": 25
    }
   ],
   "source": [
    "knn_clf = KNeighborsClassifier()\n",
    "knn_clf.fit(X_train,y_train)"
   ],
   "metadata": {
    "collapsed": false,
    "pycharm": {
     "name": "#%%\n",
     "is_executing": false
    }
   }
  },
  {
   "cell_type": "code",
   "execution_count": 26,
   "outputs": [
    {
     "data": {
      "text/plain": "1.0"
     },
     "metadata": {},
     "output_type": "execute_result",
     "execution_count": 26
    }
   ],
   "source": [
    "knn_clf.score(X_test_standard,y_test)"
   ],
   "metadata": {
    "collapsed": false,
    "pycharm": {
     "name": "#%%\n",
     "is_executing": false
    }
   }
  },
  {
   "cell_type": "markdown",
   "source": [
    "注：如果对原有的训练数据集进行了归一化处理，那么，测试数据集也需要进行归一化。\n",
    "\n"
   ],
   "metadata": {
    "collapsed": false,
    "pycharm": {
     "name": "#%% md\n"
    }
   }
  }
 ],
 "metadata": {
  "kernelspec": {
   "display_name": "Python 3",
   "language": "python",
   "name": "python3"
  },
  "language_info": {
   "codemirror_mode": {
    "name": "ipython",
    "version": 2
   },
   "file_extension": ".py",
   "mimetype": "text/x-python",
   "name": "python",
   "nbconvert_exporter": "python",
   "pygments_lexer": "ipython2",
   "version": "2.7.6"
  },
  "pycharm": {
   "stem_cell": {
    "cell_type": "raw",
    "source": [],
    "metadata": {
     "collapsed": false
    }
   }
  }
 },
 "nbformat": 4,
 "nbformat_minor": 0
}