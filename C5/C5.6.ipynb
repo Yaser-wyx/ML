{
 "cells": [
  {
   "cell_type": "markdown",
   "metadata": {
    "collapsed": true,
    "pycharm": {
     "name": "#%% md\n"
    }
   },
   "source": [
    "# 5.6 R Squared\n",
    "- 公式：$R^2 = 1- \\frac{\\sum_{i}{(\\widehat{y}^{(i)}-y^{(i)})^2}}{\\sum_{i}{(\\overline{y}^{(i)}-y^{(i)})^2}}$\n",
    " $\\equiv 1- \\frac{\\frac{\\sum_{i}{(\\widehat{y}^{(i)}-y^{(i)})^2}}{m}}{\\frac{\\sum_{i}{(\\overline{y}^{(i)}-y^{(i)})^2}}{m}}$\n",
    " $\\equiv 1- \\frac{MSE(\\widehat{y},y)}{Var(y)}$\n",
    " - 公式解释：\n",
    "       1. `分母`为使用$\\overline{y}$进行预测产生的错误（基准模型）。\n",
    "       2. `分子`是使用我们训练出来的模型进行预测产生的错误。\n",
    "       3. `分式`就表示我们预测错误占总错误的比值。\n",
    "       4. 使用`1-分式`表示拟合的程度\n",
    "       5. $R^2$的值$\\le$1\n",
    "       6. $R^2$的值越大表示效果越好\n",
    "       7. 如果$R^2=0$，表示训练的模型效果等于基准模型\n",
    "       8. 如果$R^2\\le0$，表示训练的模型还不如基准模型，说明可能数据不存在线性关系\n",
    "        "
   ]
  },
  {
   "cell_type": "code",
   "execution_count": 2,
   "outputs": [
    {
     "data": {
      "text/plain": "<Figure size 640x480 with 1 Axes>"
     },
     "metadata": {},
     "output_type": "display_data"
    },
    {
     "data": {
      "text/plain": "<Figure size 640x480 with 1 Axes>"
     },
     "metadata": {},
     "output_type": "display_data"
    }
   ],
   "source": [
    "from sklearn.metrics import r2_score\n",
    "import matplotlib.pyplot as plt\n",
    "from sklearn import datasets\n",
    "from sklearn.model_selection import train_test_split\n",
    "from code.simpleLinearRegression import SimpleLinearRegression\n",
    "boston = datasets.load_boston()\n",
    "x = boston.data[:,5]\n",
    "y = boston.target\n",
    "plt.scatter(x,y)\n",
    "plt.show()\n",
    "x = x[y<50]\n",
    "y = y[y<50]\n",
    "plt.scatter(x,y)\n",
    "plt.show()"
   ],
   "metadata": {
    "collapsed": false,
    "pycharm": {
     "name": "#%%\n",
     "is_executing": false
    }
   }
  },
  {
   "cell_type": "code",
   "execution_count": 4,
   "outputs": [
    {
     "name": "stdout",
     "text": [
      "0.5682464825049474\n"
     ],
     "output_type": "stream"
    }
   ],
   "source": [
    "X_train,X_test,y_train,y_test = train_test_split(x,y,random_state=666)\n",
    "reg = SimpleLinearRegression()\n",
    "reg.fit(X_train,y_train)\n",
    "y_predict = reg.predict(X_test)\n",
    "print(r2_score(y_test,y_predict))"
   ],
   "metadata": {
    "collapsed": false,
    "pycharm": {
     "name": "#%%\n",
     "is_executing": false
    }
   }
  }
 ],
 "metadata": {
  "kernelspec": {
   "display_name": "Python 3",
   "language": "python",
   "name": "python3"
  },
  "language_info": {
   "codemirror_mode": {
    "name": "ipython",
    "version": 2
   },
   "file_extension": ".py",
   "mimetype": "text/x-python",
   "name": "python",
   "nbconvert_exporter": "python",
   "pygments_lexer": "ipython2",
   "version": "2.7.6"
  },
  "pycharm": {
   "stem_cell": {
    "cell_type": "raw",
    "source": [],
    "metadata": {
     "collapsed": false
    }
   }
  }
 },
 "nbformat": 4,
 "nbformat_minor": 0
}