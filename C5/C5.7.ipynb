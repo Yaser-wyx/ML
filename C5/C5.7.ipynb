{
 "cells": [
  {
   "cell_type": "markdown",
   "metadata": {
    "collapsed": true,
    "pycharm": {
     "name": "#%% md\n"
    }
   },
   "source": [
    "# 5.7~5.10 多元线性回归\n",
    "\n",
    "- 多元线性回归代价函数：\n",
    "$\\sum_{i=1}^{m}\\left(y^{(i)}-\\hat{y}^{(i)}\\right)^{2}$\n",
    "\n",
    "   其中：$\\hat{y}^{(i)}=\\theta_{0}+\\theta_{1} X_{1}^{(i)}+\\theta_{2} X_{2}^{(i)}+\\ldots+\\theta_{n} X_{n}^{(i)}$\n",
    "   \n",
    "   目标：找到$\\theta_{0}, \\theta_{1}, \\theta_{2}, \\ldots, \\theta_{n}$，使得$\\sum_{i=1}^{m}\\left(y^{(i)}-\\hat{y}^{(i)}\\right)^{2}$尽可能小\n",
    "   \n",
    "   $\\hat{y}^{(i)}=\\theta_{0}+\\theta_{1} X_{1}^{(i)}+\\theta_{2} X_{2}^{(i)}+\\ldots+\\theta_{n} X_{n}^{(i)}$\n",
    "   \n",
    "   $\\theta=\\left(\\theta_{0}, \\theta_{1}, \\theta_{2}, \\ldots, \\theta_{n}\\right)^{T}$\n",
    "   \n",
    "   $\\hat{y}^{(i)}=\\theta_{0} X_{0}^{i j}+\\theta_{1} X_{1}^{(i)}+\\theta_{2} X_{2}^{(i)}+\\ldots+\\theta_{n} X_{n}^{(i)}, X_{0}^{(i)} \\equiv 1$\n",
    "   \n",
    "   $X^{(i)}=\\left(X_{0}^{(i)}, X_{1}^{(i)}, X_{2}^{(i)}, \\ldots, X_{n}^{(i)}\\right)$\n",
    "   \n",
    "   $\\hat{y}^{(i)}=X^{(i)} \\cdot \\theta$\n",
    "   \n",
    "   $X_{b}=\\left(\\begin{array}{ccccc}{1} & {X_{1}^{(1)}} & {X_{2}^{(1)}} & {\\dots} & {X_{n}^{(1)}} \\\\ {1} & {X_{1}^{(2)}} & {X_{2}^{(2)}} & {\\dots} & {X_{n}^{(2)}} \\\\ {\\dots} & {} & {} & {} & {\\dots} \\\\ {1} & {X_{1}^{(n)}} & {X_{2}^{(n)}} & {\\dots} & {X_{n}^{(m)}}\\end{array}\\right) \\theta=\\left(\\begin{array}{c}{\\theta_{0}} \\\\ {\\theta_{1}} \\\\ {\\cdots} \\\\ {\\cdots} \\\\ {\\theta_{n}}\\end{array}\\right)$\n",
    "   \n",
    "   $\\hat{y}=X_{b} \\cdot \\theta$\n",
    "   \n",
    "   目标：使得$\\left(y-X_{b} \\cdot \\theta\\right)^{T}\\left(y-X_{b} \\cdot \\theta\\right)$尽可能小，对$\\theta$求导\n",
    "- 求导得到的结果为，正规方程解：$\\theta=\\left(X_{b}^{T} X_{b}\\right)^{-1} X_{b}^{T} y$\n"
   ]
  },
  {
   "cell_type": "code",
   "execution_count": 1,
   "outputs": [],
   "source": [
    "from code.linerRegression import LinearRegression\n",
    "from sklearn.model_selection import train_test_split\n",
    "from sklearn.datasets import load_boston\n",
    "linearRegression = LinearRegression()\n",
    "boston_dataset = load_boston()\n",
    "X = boston_dataset.data\n",
    "y = boston_dataset.target"
   ],
   "metadata": {
    "collapsed": false,
    "pycharm": {
     "name": "#%%\n",
     "is_executing": false
    }
   }
  },
  {
   "cell_type": "code",
   "execution_count": 2,
   "outputs": [
    {
     "name": "stdout",
     "text": [
      "(490, 13)\n"
     ],
     "output_type": "stream"
    }
   ],
   "source": [
    "X = X[y<50]\n",
    "y = y[y<50]\n",
    "print(X.shape)"
   ],
   "metadata": {
    "collapsed": false,
    "pycharm": {
     "name": "#%%\n",
     "is_executing": false
    }
   }
  },
  {
   "cell_type": "code",
   "execution_count": 3,
   "outputs": [
    {
     "name": "stdout",
     "text": [
      "0.8009390227580916\n"
     ],
     "output_type": "stream"
    }
   ],
   "source": [
    "X_train,X_test,y_train,y_test = train_test_split(X,y,random_state=666)\n",
    "linearRegression.fit_normal(X_train,y_train)\n",
    "print(linearRegression.score(X_test,y_test))"
   ],
   "metadata": {
    "collapsed": false,
    "pycharm": {
     "name": "#%%\n",
     "is_executing": false
    }
   }
  },
  {
   "cell_type": "markdown",
   "source": [
    "## scikit-learn中的回归问题"
   ],
   "metadata": {
    "collapsed": false,
    "pycharm": {
     "name": "#%% md\n"
    }
   }
  },
  {
   "cell_type": "code",
   "execution_count": 4,
   "outputs": [
    {
     "name": "stdout",
     "text": [
      "0.8009390227581041\n"
     ],
     "output_type": "stream"
    }
   ],
   "source": [
    "from sklearn.linear_model import LinearRegression\n",
    "lin_reg = LinearRegression()\n",
    "lin_reg.fit(X_train,y_train)\n",
    "print(lin_reg.score(X_test,y_test))"
   ],
   "metadata": {
    "collapsed": false,
    "pycharm": {
     "name": "#%%\n",
     "is_executing": false
    }
   }
  },
  {
   "cell_type": "markdown",
   "source": [
    "## 使用KNN实现回归"
   ],
   "metadata": {
    "collapsed": false,
    "pycharm": {
     "name": "#%% md\n"
    }
   }
  },
  {
   "cell_type": "code",
   "execution_count": 5,
   "outputs": [
    {
     "name": "stdout",
     "text": [
      "0.8232737973831725\n"
     ],
     "output_type": "stream"
    }
   ],
   "source": [
    "from sklearn.neighbors import KNeighborsRegressor\n",
    "from sklearn.preprocessing import StandardScaler\n",
    "standardScaler = StandardScaler()\n",
    "standardScaler.fit(X_train,y_train)\n",
    "\n",
    "X_train_standard = standardScaler.transform(X_train)\n",
    "X_test_standard =  standardScaler.transform(X_test)\n",
    "\n",
    "knn_reg = KNeighborsRegressor()\n",
    "knn_reg.fit(X_train_standard,y_train)\n",
    "print(knn_reg.score(X_test_standard,y_test))"
   ],
   "metadata": {
    "collapsed": false,
    "pycharm": {
     "name": "#%%\n",
     "is_executing": false
    }
   }
  },
  {
   "cell_type": "code",
   "execution_count": 6,
   "outputs": [
    {
     "name": "stderr",
     "text": [
      "J:\\anacoda\\lib\\site-packages\\sklearn\\model_selection\\_split.py:1978: FutureWarning: The default value of cv will change from 3 to 5 in version 0.22. Specify it explicitly to silence this warning.\n  warnings.warn(CV_WARNING, FutureWarning)\n"
     ],
     "output_type": "stream"
    },
    {
     "data": {
      "text/plain": "GridSearchCV(cv='warn', error_score='raise-deprecating',\n             estimator=KNeighborsRegressor(algorithm='auto', leaf_size=30,\n                                           metric='minkowski',\n                                           metric_params=None, n_jobs=None,\n                                           n_neighbors=5, p=2,\n                                           weights='uniform'),\n             iid='warn', n_jobs=-1,\n             param_grid=[{'n_neighbors': [1, 2, 3, 4, 5, 6, 7, 8, 9, 10],\n                          'weights': ['uniform']},\n                         {'n_neighbors': [1, 2, 3, 4, 5, 6, 7, 8, 9, 10],\n                          'p': [1, 2, 3, 4, 5], 'weights': ['distance']}],\n             pre_dispatch='2*n_jobs', refit=True, return_train_score=False,\n             scoring=None, verbose=0)"
     },
     "metadata": {},
     "output_type": "execute_result",
     "execution_count": 6
    }
   ],
   "source": [
    "from sklearn.model_selection import GridSearchCV\n",
    "param_grid = [\n",
    "    {\n",
    "        \"weights\": [\"uniform\"],\n",
    "        \"n_neighbors\": [i for i in range(1, 11)]\n",
    "    },\n",
    "    {\n",
    "        \"weights\": [\"distance\"],\n",
    "        \"n_neighbors\": [i for i in range(1, 11)],\n",
    "        \"p\": [i for i in range(1,6)]\n",
    "    }\n",
    "]\n",
    "knn_reg = KNeighborsRegressor()\n",
    "grid_res = GridSearchCV(knn_reg,param_grid,n_jobs=-1)\n",
    "grid_res.fit(X_train_standard,y_train)"
   ],
   "metadata": {
    "collapsed": false,
    "pycharm": {
     "name": "#%%\n",
     "is_executing": false
    }
   }
  },
  {
   "cell_type": "code",
   "execution_count": 7,
   "outputs": [
    {
     "data": {
      "text/plain": "0.7945829394414621"
     },
     "metadata": {},
     "output_type": "execute_result",
     "execution_count": 7
    }
   ],
   "source": [
    "grid_res.best_score_"
   ],
   "metadata": {
    "collapsed": false,
    "pycharm": {
     "name": "#%%\n",
     "is_executing": false
    }
   }
  },
  {
   "cell_type": "code",
   "execution_count": 8,
   "outputs": [
    {
     "data": {
      "text/plain": "{'n_neighbors': 5, 'p': 1, 'weights': 'distance'}"
     },
     "metadata": {},
     "output_type": "execute_result",
     "execution_count": 8
    }
   ],
   "source": [
    "grid_res.best_params_"
   ],
   "metadata": {
    "collapsed": false,
    "pycharm": {
     "name": "#%%\n",
     "is_executing": false
    }
   }
  }
 ],
 "metadata": {
  "kernelspec": {
   "display_name": "Python 3",
   "language": "python",
   "name": "python3"
  },
  "language_info": {
   "codemirror_mode": {
    "name": "ipython",
    "version": 2
   },
   "file_extension": ".py",
   "mimetype": "text/x-python",
   "name": "python",
   "nbconvert_exporter": "python",
   "pygments_lexer": "ipython2",
   "version": "2.7.6"
  },
  "pycharm": {
   "stem_cell": {
    "cell_type": "raw",
    "source": [],
    "metadata": {
     "collapsed": false
    }
   }
  }
 },
 "nbformat": 4,
 "nbformat_minor": 0
}