{
 "cells": [
  {
   "cell_type": "markdown",
   "metadata": {
    "collapsed": true,
    "pycharm": {
     "name": "#%% md\n"
    }
   },
   "source": [
    "# 6.5 梯度下降的向量化和数据标准化\n",
    "- 梯度下降公式向量化：\n",
    "   \n",
    "   $\\nabla J(\\theta)=\\frac{2}{m} \\cdot\\left(\\begin{array}{c}{\\sum_{i=1}^{m}\\left(X_{b}^{(i)} \\theta-y^{(i)}\\right) \\cdot X_{0}^{(i)}} \\\\ {\\sum_{i=1}^{m}\\left(X_{b}^{(i)} \\theta-y^{(i)}\\right) \\cdot X_{1}^{(i)}} \\\\ {\\sum_{i=1}^{m}\\left(X_{b}^{(i)} \\theta-y^{(i)}\\right) \\cdot X_{2}^{(i)}} \\\\ {\\sum_{i=1}^{m}\\left(X_{b}^{(i)} \\theta-y^{(i)}\\right) \\cdot X_{n}^{(i)}} \\\\ {\\sum_{i=1}^{m}\\left(X_{b}^{(i)} \\theta-y^{(i)}\\right) \\cdot X_{n}^{(i)}}\\end{array}\\right)=\\frac{2}{m} \\cdot X_{b}^{T} \\cdot\\left(X_{b} \\theta-y\\right)$\n"
   ]
  },
  {
   "cell_type": "code",
   "execution_count": 1,
   "outputs": [],
   "source": [
    "from code.linerRegression import LinearRegression\n",
    "from sklearn.model_selection import train_test_split\n",
    "from sklearn.datasets import load_boston\n",
    "linearRegression = LinearRegression()\n",
    "boston_dataset = load_boston()\n",
    "X = boston_dataset.data\n",
    "y = boston_dataset.target\n",
    "X_train,X_test,y_train,y_test = train_test_split(X,y,random_state=666)"
   ],
   "metadata": {
    "collapsed": false,
    "pycharm": {
     "name": "#%%\n",
     "is_executing": false
    }
   }
  },
  {
   "cell_type": "code",
   "execution_count": 2,
   "outputs": [
    {
     "name": "stdout",
     "text": [
      "(490, 13)\n"
     ],
     "output_type": "stream"
    }
   ],
   "source": [
    "X = X[y<50]\n",
    "y = y[y<50]\n",
    "print(X.shape)"
   ],
   "metadata": {
    "collapsed": false,
    "pycharm": {
     "name": "#%%\n",
     "is_executing": false
    }
   }
  },
  {
   "cell_type": "code",
   "execution_count": 3,
   "outputs": [
    {
     "name": "stdout",
     "text": [
      "0.6499762439230511\n"
     ],
     "output_type": "stream"
    }
   ],
   "source": [
    "linearRegression.fit_normal(X_train,y_train)\n",
    "print(linearRegression.score(X_test,y_test))"
   ],
   "metadata": {
    "collapsed": false,
    "pycharm": {
     "name": "#%%\n",
     "is_executing": false
    }
   }
  },
  {
   "cell_type": "code",
   "source": [
    "linearRegression = LinearRegression()\n",
    "linearRegression.fit_gd(X_train,y_train,eta=.000001)\n",
    "print(linearRegression.intercept_,linearRegression.coef_)\n",
    "print(linearRegression.score(X_test,y_test))"
   ],
   "metadata": {
    "collapsed": false,
    "pycharm": {
     "name": "#%%\n",
     "is_executing": false
    }
   },
   "execution_count": 4,
   "outputs": [
    {
     "name": "stdout",
     "text": [
      "0.010838889084160875 [-0.08511499  0.1388413  -0.03648813  0.00952832  0.00400425  0.13624828\n  0.09661666  0.0144021   0.00539828  0.00279186  0.08023975  0.04498597\n -0.37430737]\n0.22193628785848574\n"
     ],
     "output_type": "stream"
    }
   ]
  },
  {
   "cell_type": "markdown",
   "source": [
    "- 使用梯度下降法之前，需要先进行数据归一化"
   ],
   "metadata": {
    "collapsed": false,
    "pycharm": {
     "name": "#%% md\n"
    }
   }
  },
  {
   "cell_type": "code",
   "execution_count": 5,
   "outputs": [],
   "source": [
    "from sklearn.preprocessing import StandardScaler\n",
    "standardScaler = StandardScaler()\n",
    "standardScaler.fit(X_train)\n",
    "X_train_standard = standardScaler.transform(X_train)\n",
    "X_test_standard = standardScaler.transform(X_test)"
   ],
   "metadata": {
    "collapsed": false,
    "pycharm": {
     "name": "#%%\n",
     "is_executing": false
    }
   }
  },
  {
   "cell_type": "code",
   "execution_count": 6,
   "outputs": [
    {
     "name": "stdout",
     "text": [
      "Wall time: 162 ms\n0.650005732066632\n"
     ],
     "output_type": "stream"
    }
   ],
   "source": [
    "lin_reg0 = LinearRegression()\n",
    "%time lin_reg0.fit_gd(X_train_standard,y_train)\n",
    "print(lin_reg0.score(X_test_standard,y_test))"
   ],
   "metadata": {
    "collapsed": false,
    "pycharm": {
     "name": "#%%\n",
     "is_executing": false
    }
   }
  }
 ],
 "metadata": {
  "kernelspec": {
   "display_name": "Python 3",
   "language": "python",
   "name": "python3"
  },
  "language_info": {
   "codemirror_mode": {
    "name": "ipython",
    "version": 2
   },
   "file_extension": ".py",
   "mimetype": "text/x-python",
   "name": "python",
   "nbconvert_exporter": "python",
   "pygments_lexer": "ipython2",
   "version": "2.7.6"
  },
  "pycharm": {
   "stem_cell": {
    "cell_type": "raw",
    "source": [],
    "metadata": {
     "collapsed": false
    }
   }
  }
 },
 "nbformat": 4,
 "nbformat_minor": 0
}