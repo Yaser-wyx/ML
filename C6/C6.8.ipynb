{
 "cells": [
  {
   "cell_type": "markdown",
   "metadata": {
    "collapsed": true,
    "pycharm": {
     "name": "#%% md\n"
    }
   },
   "source": [
    "## 梯度计算的调试方法"
   ]
  },
  {
   "cell_type": "code",
   "execution_count": 1,
   "outputs": [],
   "source": [
    "import numpy as np"
   ],
   "metadata": {
    "collapsed": false,
    "pycharm": {
     "name": "#%%\n",
     "is_executing": false
    }
   }
  },
  {
   "cell_type": "code",
   "execution_count": 3,
   "outputs": [],
   "source": [
    "X = np.random.random(size=(1000,10))\n",
    "true_theta = np.arange(1,12,dtype=float)\n",
    "X_b = np.hstack([np.ones(len(X)).reshape(-1,1),X])\n",
    "y = X_b.dot(true_theta) + np.random.normal(size=1000)"
   ],
   "metadata": {
    "collapsed": false,
    "pycharm": {
     "name": "#%%\n",
     "is_executing": false
    }
   }
  },
  {
   "cell_type": "code",
   "execution_count": 12,
   "outputs": [],
   "source": [
    "# 计算损失函数的值\n",
    "def J(theta,X_b,y):\n",
    "    try:\n",
    "        return np.sum((X_b.dot(theta)-y)**2)/len(X_b)\n",
    "    except:\n",
    "        return float('inf')\n",
    "# 使用推导出的数学公式计算梯度\n",
    "def dJ_math(theta,X_b,y):\n",
    "    return X_b.T.dot(X_b.dot(theta)-y) *2. / len(X_b)\n",
    "# 使用模拟的方式，计算梯度\n",
    "def dJ_debug(theta,X_b,y,epsilon=0.001):\n",
    "    m = len(theta) # 对m个特征分别求取梯度\n",
    "    res = np.empty(m)\n",
    "    for i in range(m):\n",
    "        theta_1  =np.copy(theta)\n",
    "        theta_1[i] += epsilon\n",
    "        theta_2 =np.copy(theta)\n",
    "        theta_2[i] -= epsilon\n",
    "        res[i] = (J(theta_1,X_b,y) - J(theta_2,X_b,y)) / (2*epsilon)\n",
    "    return res\n",
    "\n",
    "def gradient_batch(dJ , initial_theta, X_b , y ,eta = 0.01, n_iters = 10000):\n",
    "    theta = initial_theta\n",
    "    for i in range(n_iters):\n",
    "        gradient = dJ(theta,X_b,y)\n",
    "        theta = theta - eta * gradient\n",
    "    return theta"
   ],
   "metadata": {
    "collapsed": false,
    "pycharm": {
     "name": "#%%\n",
     "is_executing": false
    }
   }
  },
  {
   "cell_type": "code",
   "execution_count": 6,
   "outputs": [
    {
     "name": "stdout",
     "text": [
      "[ 1.  2.  3.  4.  5.  6.  7.  8.  9. 10. 11.]\n"
     ],
     "output_type": "stream"
    }
   ],
   "source": [
    "print(true_theta)"
   ],
   "metadata": {
    "collapsed": false,
    "pycharm": {
     "name": "#%%\n",
     "is_executing": false
    }
   }
  },
  {
   "cell_type": "code",
   "execution_count": 9,
   "outputs": [
    {
     "name": "stdout",
     "text": [
      "Wall time: 203 ms\n[ 1.09454497  2.17073524  2.85492248  4.22337763  4.84725553  6.16411176\n  6.83075687  7.92486528  8.89322382  9.90695452 10.95814033]\n"
     ],
     "output_type": "stream"
    }
   ],
   "source": [
    "initial_theta = np.zeros(X_b.shape[1])\n",
    "%time theta = gradient_batch(dJ_math,initial_theta,X_b,y)\n",
    "print(theta)"
   ],
   "metadata": {
    "collapsed": false,
    "pycharm": {
     "name": "#%%\n",
     "is_executing": false
    }
   }
  },
  {
   "cell_type": "code",
   "execution_count": 13,
   "outputs": [
    {
     "name": "stdout",
     "text": [
      "Wall time: 2.78 s\n[ 1.09454497  2.17073524  2.85492248  4.22337763  4.84725553  6.16411176\n  6.83075687  7.92486528  8.89322382  9.90695452 10.95814033]\n"
     ],
     "output_type": "stream"
    }
   ],
   "source": [
    "%time theta = gradient_batch(dJ_debug,initial_theta,X_b,y)\n",
    "print(theta)"
   ],
   "metadata": {
    "collapsed": false,
    "pycharm": {
     "name": "#%%\n",
     "is_executing": false
    }
   }
  }
 ],
 "metadata": {
  "kernelspec": {
   "display_name": "Python 3",
   "language": "python",
   "name": "python3"
  },
  "language_info": {
   "codemirror_mode": {
    "name": "ipython",
    "version": 2
   },
   "file_extension": ".py",
   "mimetype": "text/x-python",
   "name": "python",
   "nbconvert_exporter": "python",
   "pygments_lexer": "ipython2",
   "version": "2.7.6"
  },
  "pycharm": {
   "stem_cell": {
    "cell_type": "raw",
    "source": [],
    "metadata": {
     "collapsed": false
    }
   }
  }
 },
 "nbformat": 4,
 "nbformat_minor": 0
}