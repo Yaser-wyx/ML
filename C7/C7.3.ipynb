{
 "cells": [
  {
   "cell_type": "markdown",
   "metadata": {
    "collapsed": true,
    "pycharm": {
     "name": "#%% md\n",
     "is_executing": false
    }
   },
   "source": [
    "# 求取数据的主成分PCA"
   ]
  },
  {
   "cell_type": "code",
   "execution_count": 82,
   "outputs": [],
   "source": [
    "import numpy as np\n",
    "import matplotlib.pyplot as plt"
   ],
   "metadata": {
    "collapsed": false,
    "pycharm": {
     "name": "#%%\n",
     "is_executing": false
    }
   }
  },
  {
   "cell_type": "code",
   "execution_count": 83,
   "outputs": [
    {
     "data": {
      "text/plain": "<Figure size 432x288 with 1 Axes>",
      "image/png": "[encoded data removed]"
     },
     "metadata": {
      "needs_background": "light"
     },
     "output_type": "display_data"
    }
   ],
   "source": [
    "# 随机生成一组二维特征数据\n",
    "X = np.empty((100,2))\n",
    "X[:,0] = np.random.uniform(0.,100.,size=100)\n",
    "X[:,1] = 0.75 * X[:,0] + 3. + np.random.normal(0,5,size=100)\n",
    "plt.scatter(X[:,0],X[:,1])\n",
    "plt.show()"
   ],
   "metadata": {
    "collapsed": false,
    "pycharm": {
     "name": "#%%\n",
     "is_executing": false
    }
   }
  },
  {
   "cell_type": "markdown",
   "source": [
    "-  进行demean操作，即将数据进行中心化"
   ],
   "metadata": {
    "collapsed": false,
    "pycharm": {
     "name": "#%% md\n"
    }
   }
  },
  {
   "cell_type": "code",
   "execution_count": 84,
   "outputs": [],
   "source": [
    "def demean(X):\n",
    "    return X - np.mean(X,axis=0)"
   ],
   "metadata": {
    "collapsed": false,
    "pycharm": {
     "name": "#%%\n",
     "is_executing": false
    }
   }
  },
  {
   "cell_type": "markdown",
   "source": [
    "- 使用梯度上升法求PCA"
   ],
   "metadata": {
    "collapsed": false,
    "pycharm": {
     "name": "#%% md\n"
    }
   }
  },
  {
   "cell_type": "code",
   "execution_count": 85,
   "outputs": [],
   "source": [
    "# 计算函数的值\n",
    "def f(w,X):\n",
    "    return np.sum(X.dot(w)**2)/len(X)\n",
    "# 使用公式法计算梯度\n",
    "def df_math(w,X):\n",
    "    return X.T.dot(X.dot(w))*(2/len(X))\n",
    "# 使用模拟法计算梯度\n",
    "def df_debug(w,X,epsilon = 0.0001):\n",
    "    res = np.empty(len(w))\n",
    "    for i in range(len(w)):\n",
    "        w1 = np.copy(w)\n",
    "        w1[i] += epsilon\n",
    "        w2 = np.copy(w)\n",
    "        w2[i] -= epsilon\n",
    "        res[i] = (f(w1,X) - f(w2,X)) / (2 * epsilon)\n",
    "    return res\n",
    "# 计算单位向量\n",
    "def direction(w):\n",
    "    return w / np.linalg.norm(w)\n",
    "# 梯度上升\n",
    "def gradient_descent(initial_w, X,eta,n_iters,df = df_math):\n",
    "    w = direction(initial_w)\n",
    "    for i in range(n_iters):\n",
    "        gradient = df(w,X)\n",
    "        w = w + eta * gradient\n",
    "        w = direction(w)\n",
    "    return w"
   ],
   "metadata": {
    "collapsed": false,
    "pycharm": {
     "name": "#%%\n",
     "is_executing": false
    }
   }
  },
  {
   "cell_type": "markdown",
   "source": [
    "- 对数据求解PCA"
   ],
   "metadata": {
    "collapsed": false,
    "pycharm": {
     "name": "#%% md\n"
    }
   }
  },
  {
   "cell_type": "code",
   "execution_count": 88,
   "outputs": [
    {
     "name": "stdout",
     "text": [
      "[0.79397826 0.60794615]\n"
     ],
     "output_type": "stream"
    }
   ],
   "source": [
    "X_demean = demean(X)\n",
    "initial_w = np.random.uniform(size=X.shape[1])\n",
    "w_ = gradient_descent(initial_w,X_demean,0.0001,10000)\n",
    "print(w_)"
   ],
   "metadata": {
    "collapsed": false,
    "pycharm": {
     "name": "#%%\n",
     "is_executing": false
    }
   }
  },
  {
   "cell_type": "code",
   "execution_count": 89,
   "outputs": [
    {
     "data": {
      "text/plain": "<Figure size 432x288 with 1 Axes>",
      "image/png": "[encoded data removed]"
     },
     "metadata": {
      "needs_background": "light"
     },
     "output_type": "display_data"
    }
   ],
   "source": [
    "plt.scatter(X_demean[:,0],X_demean[:,1])\n",
    "plt.plot([0,w_[0]*30],[0,w_[1]*30],color='r')\n",
    "plt.show()"
   ],
   "metadata": {
    "collapsed": false,
    "pycharm": {
     "name": "#%%\n",
     "is_executing": false
    }
   }
  }
 ],
 "metadata": {
  "kernelspec": {
   "display_name": "Python 3",
   "language": "python",
   "name": "python3"
  },
  "language_info": {
   "codemirror_mode": {
    "name": "ipython",
    "version": 2
   },
   "file_extension": ".py",
   "mimetype": "text/x-python",
   "name": "python",
   "nbconvert_exporter": "python",
   "pygments_lexer": "ipython2",
   "version": "2.7.6"
  },
  "pycharm": {
   "stem_cell": {
    "cell_type": "raw",
    "source": [],
    "metadata": {
     "collapsed": false
    }
   }
  }
 },
 "nbformat": 4,
 "nbformat_minor": 0
}