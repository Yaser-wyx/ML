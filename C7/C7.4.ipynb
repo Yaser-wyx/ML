{
 "cells": [
  {
   "cell_type": "markdown",
   "metadata": {
    "collapsed": true,
    "pycharm": {
     "name": "#%% md\n"
    }
   },
   "source": [
    "# 求数据集的前N个主成分"
   ]
  },
  {
   "cell_type": "code",
   "execution_count": 12,
   "outputs": [],
   "source": [
    "import numpy as np\n",
    "import matplotlib.pyplot as plt"
   ],
   "metadata": {
    "collapsed": false,
    "pycharm": {
     "name": "#%%\n",
     "is_executing": false
    }
   }
  },
  {
   "cell_type": "code",
   "execution_count": 13,
   "outputs": [
    {
     "data": {
      "text/plain": "<Figure size 432x288 with 1 Axes>",
      "image/png": "[encoded data removed]"
     },
     "metadata": {
      "needs_background": "light"
     },
     "output_type": "display_data"
    }
   ],
   "source": [
    "size = 1000\n",
    "np.random.seed(666)\n",
    "X = np.empty((size,2))\n",
    "X[:,0] = np.random.uniform(0.,100.,size=size)\n",
    "X[:,1] = 0.68 * X[:,0] + 3.57 + np.random.normal(0,5,size=size)\n",
    "\n",
    "plt.scatter(X[:,0],X[:,1])\n",
    "plt.show()"
   ],
   "metadata": {
    "collapsed": false,
    "pycharm": {
     "name": "#%%\n",
     "is_executing": false
    }
   }
  },
  {
   "cell_type": "code",
   "execution_count": 14,
   "outputs": [],
   "source": [
    "# 进行demean操作\n",
    "def demean(X):\n",
    "    return X - np.mean(X,axis=0)\n",
    "\n",
    "# 求梯度值\n",
    "def df(w, X):\n",
    "    return X.T.dot(X.dot(w)) * (2 / len(X))\n",
    "\n",
    "\n",
    "def direction(w):\n",
    "    return w / np.linalg.norm(w)\n",
    "\n",
    "\n",
    "# 求数据的第一主成分\n",
    "def first_PCA(X, initial_w, eta=0.001, n_iters=10000):\n",
    "    w = direction(initial_w)\n",
    "    for i in range(n_iters):\n",
    "        gradient = df(w, X)\n",
    "        w = w + eta * gradient\n",
    "        w = direction(w)\n",
    "    return w\n",
    "\n",
    "\n",
    "# 求数据前N个主成分\n",
    "def first_N_PCA(n, X, eta=0.001, n_iters=10000):\n",
    "    X_pca = X.copy()\n",
    "    X_pca = demean(X_pca)\n",
    "    res = []\n",
    "    # 求n个主成分\n",
    "    for i in range(n):\n",
    "        initial_w = np.random.random(X_pca.shape[1])\n",
    "        w = first_PCA(X_pca, initial_w, eta) \n",
    "        res.append(w)\n",
    "        # 减去刚刚求得的主成分分量\n",
    "        X_pca = X_pca - X_pca.dot(w).reshape(-1, 1) * w\n",
    "    return res"
   ],
   "metadata": {
    "collapsed": false,
    "pycharm": {
     "name": "#%%\n",
     "is_executing": false
    }
   }
  },
  {
   "cell_type": "code",
   "execution_count": 17,
   "outputs": [
    {
     "name": "stdout",
     "text": [
      "[array([0.8222663 , 0.56910292]), array([-0.56910292,  0.8222663 ])]\n1.3322676295501878e-15\n"
     ],
     "output_type": "stream"
    }
   ],
   "source": [
    "w_n = first_N_PCA(2,X)\n",
    "print(w_n)\n",
    "print(w_n[0].dot(w_n[1]))\n"
   ],
   "metadata": {
    "collapsed": false,
    "pycharm": {
     "name": "#%%\n",
     "is_executing": false
    }
   }
  }
 ],
 "metadata": {
  "kernelspec": {
   "display_name": "Python 3",
   "language": "python",
   "name": "python3"
  },
  "language_info": {
   "codemirror_mode": {
    "name": "ipython",
    "version": 2
   },
   "file_extension": ".py",
   "mimetype": "text/x-python",
   "name": "python",
   "nbconvert_exporter": "python",
   "pygments_lexer": "ipython2",
   "version": "2.7.6"
  },
  "pycharm": {
   "stem_cell": {
    "cell_type": "raw",
    "source": [],
    "metadata": {
     "collapsed": false
    }
   }
  }
 },
 "nbformat": 4,
 "nbformat_minor": 0
}