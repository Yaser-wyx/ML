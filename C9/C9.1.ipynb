{
 "cells": [
  {
   "cell_type": "markdown",
   "metadata": {
    "collapsed": true,
    "pycharm": {
     "name": "#%% md\n"
    }
   },
   "source": [
    "# 逻辑回归\n",
    "- 简介：逻辑回归是一个二分类算法，它输出一个从0~1的离散结果，他通过用Sigmoid函数将线性回归模型\n",
    "产生的结果进行映射到介于0到1之间来工作。\n",
    "- `sigmoid`函数:\n",
    "    $\\sigma(t)=\\frac{1}{1+e^{-t}}$"
   ]
  },
  {
   "cell_type": "code",
   "execution_count": 2,
   "outputs": [],
   "source": [
    "import numpy as np\n",
    "import matplotlib.pyplot as plt"
   ],
   "metadata": {
    "collapsed": false,
    "pycharm": {
     "name": "#%%\n",
     "is_executing": false
    }
   }
  },
  {
   "cell_type": "code",
   "execution_count": 3,
   "outputs": [
    {
     "data": {
      "text/plain": "<Figure size 432x288 with 1 Axes>",
      "image/png": "[encoded data removed]"
     },
     "metadata": {
      "needs_background": "light"
     },
     "output_type": "display_data"
    }
   ],
   "source": [
    "def sigmoid(t):\n",
    "    return 1/( 1 + np.exp(-t))\n",
    "x = np.linspace(-10,10,500)\n",
    "y = [sigmoid(i) for i in x]\n",
    "plt.plot(x,y)\n",
    "plt.show()"
   ],
   "metadata": {
    "collapsed": false,
    "pycharm": {
     "name": "#%%\n",
     "is_executing": false
    }
   }
  },
  {
   "cell_type": "markdown",
   "source": [
    "## 逻辑回归\n",
    "- 损失函数：\n",
    "$\\text { cost }=\\left\\{\\begin{aligned}-\\log (\\hat{p}) & \\text { if } \\quad y=1 \\\\-\\log (1-\\hat{p}) & \\text { if } \\quad y=0 \\end{aligned}\\right.$\n",
    "\n",
    "   $\\to\\operatorname{cost}=-y \\log (\\hat{p})-(1-y) \\log (1-\\hat{p})$"
   ],
   "metadata": {
    "collapsed": false,
    "pycharm": {
     "name": "#%% md\n"
    }
   }
  },
  {
   "cell_type": "code",
   "execution_count": 23,
   "outputs": [
    {
     "data": {
      "text/plain": "<Figure size 432x288 with 1 Axes>",
      "image/png": "[encoded data removed]"
     },
     "metadata": {
      "needs_background": "light"
     },
     "output_type": "display_data"
    }
   ],
   "source": [
    "X = np.linspace(0.0001,0.999999,100)\n",
    "y1 = - np.log(X)\n",
    "y2 = - np.log(1-X)\n",
    "plt.plot(X,y2,color='r')\n",
    "plt.plot(X,y1)\n",
    "plt.xlim((0,1))\n",
    "plt.ylim((-2,10))\n",
    "plt.show()"
   ],
   "metadata": {
    "collapsed": false,
    "pycharm": {
     "name": "#%%\n",
     "is_executing": false
    }
   }
  },
  {
   "cell_type": "markdown",
   "source": [
    "- 总的损失函数：$J(\\theta)=-\\frac{1}{m} \\sum_{i=1}^{m} y^{(i)} \\log \\left(\\hat{p}^{(i)}\\right)+\\left(1-y^{(i)}\\right) \\log \\left(1-\\hat{p}^{(i)}\\right)$\n",
    "\n",
    "- 预测函数：$\\hat{p}^{(i)}=\\sigma\\left(X_{b}^{(i)} \\theta\\right)=\\frac{1}{1+e^{-X_{b}^{(i)} \\theta}}$\n",
    "\n",
    "- 逻辑回归损失函数：$J(\\theta)=-\\frac{1}{m} \\sum_{i=1}^{m} y^{(i)} \\log \\left(\\sigma\\left(X_{b}^{(i)} \\theta\\right)\\right)+\\left(1-y^{(i)}\\right) \\log \\left(1-\\sigma\\left(X_{b}^{(i)} \\theta\\right)\\right)$\n",
    "\n",
    "- 梯度函数：$\\nabla J(\\theta)=\\frac{1}{m} \\cdot\\left(\\begin{array}{c}{\\sum_{i=1}^{m}\\left(\\hat{y}^{(i)}-y^{(i)}\\right)} \\\\ {\\sum_{i=1}^{m}\\left(\\hat{y}^{(i)}-y^{(i)}\\right) \\cdot X_{1}^{(i)}} \\\\ {\\sum_{i=1}^{m}\\left(\\hat{y}^{(i)}-y^{(i)}\\right) \\cdot X_{2}^{(i)}} \\\\ {\\cdots} \\\\ {\\sum_{i=1}^{m}\\left(\\hat{y}^{(i)}-y^{(i)}\\right) \\cdot X_{n}^{(i)}} \\\\ {}\\end{array}\\right) =\\frac{1}{m} \\cdot X_{b}^{T} \\cdot\\left(\\sigma\\left(X_{b} \\theta\\right)-y\\right)$"
   ],
   "metadata": {
    "collapsed": false,
    "pycharm": {
     "name": "#%% md\n"
    }
   }
  }
 ],
 "metadata": {
  "kernelspec": {
   "display_name": "Python 3",
   "language": "python",
   "name": "python3"
  },
  "language_info": {
   "codemirror_mode": {
    "name": "ipython",
    "version": 2
   },
   "file_extension": ".py",
   "mimetype": "text/x-python",
   "name": "python",
   "nbconvert_exporter": "python",
   "pygments_lexer": "ipython2",
   "version": "2.7.6"
  },
  "pycharm": {
   "stem_cell": {
    "cell_type": "raw",
    "source": [],
    "metadata": {
     "collapsed": false
    }
   }
  }
 },
 "nbformat": 4,
 "nbformat_minor": 0
}